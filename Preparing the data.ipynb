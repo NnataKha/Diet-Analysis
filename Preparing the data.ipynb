{
 "cells": [
  {
   "cell_type": "code",
   "execution_count": 1,
   "metadata": {},
   "outputs": [],
   "source": [
    "import pandas as pd"
   ]
  },
  {
   "cell_type": "code",
   "execution_count": 135,
   "metadata": {},
   "outputs": [],
   "source": [
    "dataset = pd.read_csv('diet_clean.csv')\n"
   ]
  },
  {
   "cell_type": "code",
   "execution_count": 136,
   "metadata": {},
   "outputs": [
    {
     "data": {
      "text/html": [
       "<div>\n",
       "<table border=\"1\" class=\"dataframe\">\n",
       "  <thead>\n",
       "    <tr style=\"text-align: right;\">\n",
       "      <th></th>\n",
       "      <th>Дата</th>\n",
       "      <th>Назва</th>\n",
       "      <th>Вага (грам)</th>\n",
       "      <th>Калорії</th>\n",
       "      <th>Час</th>\n",
       "    </tr>\n",
       "  </thead>\n",
       "  <tbody>\n",
       "    <tr>\n",
       "      <th>0</th>\n",
       "      <td>02.03.18</td>\n",
       "      <td>Гречка</td>\n",
       "      <td>200.0</td>\n",
       "      <td>178.0</td>\n",
       "      <td>Сніданок 1</td>\n",
       "    </tr>\n",
       "    <tr>\n",
       "      <th>1</th>\n",
       "      <td>02.03.18</td>\n",
       "      <td>Консерва рибна</td>\n",
       "      <td>230.0</td>\n",
       "      <td>506.0</td>\n",
       "      <td>Сніданок 1</td>\n",
       "    </tr>\n",
       "    <tr>\n",
       "      <th>2</th>\n",
       "      <td>02.03.18</td>\n",
       "      <td>Хліб білий</td>\n",
       "      <td>40.0</td>\n",
       "      <td>104.8</td>\n",
       "      <td>Сніданок 1</td>\n",
       "    </tr>\n",
       "    <tr>\n",
       "      <th>3</th>\n",
       "      <td>02.03.18</td>\n",
       "      <td>Яблуко</td>\n",
       "      <td>200.0</td>\n",
       "      <td>104.0</td>\n",
       "      <td>Сніданок 1</td>\n",
       "    </tr>\n",
       "    <tr>\n",
       "      <th>4</th>\n",
       "      <td>02.03.18</td>\n",
       "      <td>Рис</td>\n",
       "      <td>100.0</td>\n",
       "      <td>111.0</td>\n",
       "      <td>Обід</td>\n",
       "    </tr>\n",
       "  </tbody>\n",
       "</table>\n",
       "</div>"
      ],
      "text/plain": [
       "       Дата           Назва  Вага (грам)  Калорії         Час\n",
       "0  02.03.18          Гречка        200.0    178.0  Сніданок 1\n",
       "1  02.03.18  Консерва рибна        230.0    506.0  Сніданок 1\n",
       "2  02.03.18      Хліб білий         40.0    104.8  Сніданок 1\n",
       "3  02.03.18          Яблуко        200.0    104.0  Сніданок 1\n",
       "4  02.03.18             Рис        100.0    111.0        Обід"
      ]
     },
     "execution_count": 136,
     "metadata": {},
     "output_type": "execute_result"
    }
   ],
   "source": [
    "#print(dataset)\n",
    "dataset[['Вага (грам)', 'Калорії']].astype('float32')\n",
    "dataset.head()"
   ]
  },
  {
   "cell_type": "code",
   "execution_count": 122,
   "metadata": {},
   "outputs": [],
   "source": [
    "dataset['Дата'] = pd.to_datetime(dataset['Дата'], format='%d.%m.%y')"
   ]
  },
  {
   "cell_type": "code",
   "execution_count": 123,
   "metadata": {},
   "outputs": [
    {
     "name": "stdout",
     "output_type": "stream",
     "text": [
      "Empty DataFrame\n",
      "Columns: [Дата, Назва, Вага (грам), Калорії, Час]\n",
      "Index: []\n"
     ]
    }
   ],
   "source": [
    "df = dataset[dataset.isnull().any(axis=1)]\n",
    "print(df)\n",
    "#dataset.dropna(axis=0, how='any', inplace=True)"
   ]
  },
  {
   "cell_type": "code",
   "execution_count": 124,
   "metadata": {},
   "outputs": [
    {
     "data": {
      "text/html": [
       "<div>\n",
       "<table border=\"1\" class=\"dataframe\">\n",
       "  <thead>\n",
       "    <tr style=\"text-align: right;\">\n",
       "      <th></th>\n",
       "      <th>Вага (грам)</th>\n",
       "      <th>Калорії</th>\n",
       "    </tr>\n",
       "  </thead>\n",
       "  <tbody>\n",
       "    <tr>\n",
       "      <th>count</th>\n",
       "      <td>1124.000000</td>\n",
       "      <td>1124.000000</td>\n",
       "    </tr>\n",
       "    <tr>\n",
       "      <th>mean</th>\n",
       "      <td>118.517571</td>\n",
       "      <td>135.260475</td>\n",
       "    </tr>\n",
       "    <tr>\n",
       "      <th>std</th>\n",
       "      <td>100.016460</td>\n",
       "      <td>114.887828</td>\n",
       "    </tr>\n",
       "    <tr>\n",
       "      <th>min</th>\n",
       "      <td>2.000000</td>\n",
       "      <td>2.000000</td>\n",
       "    </tr>\n",
       "    <tr>\n",
       "      <th>25%</th>\n",
       "      <td>45.000000</td>\n",
       "      <td>58.750000</td>\n",
       "    </tr>\n",
       "    <tr>\n",
       "      <th>50%</th>\n",
       "      <td>100.000000</td>\n",
       "      <td>117.550000</td>\n",
       "    </tr>\n",
       "    <tr>\n",
       "      <th>75%</th>\n",
       "      <td>160.000000</td>\n",
       "      <td>178.000000</td>\n",
       "    </tr>\n",
       "    <tr>\n",
       "      <th>max</th>\n",
       "      <td>660.000000</td>\n",
       "      <td>1313.400000</td>\n",
       "    </tr>\n",
       "  </tbody>\n",
       "</table>\n",
       "</div>"
      ],
      "text/plain": [
       "       Вага (грам)      Калорії\n",
       "count  1124.000000  1124.000000\n",
       "mean    118.517571   135.260475\n",
       "std     100.016460   114.887828\n",
       "min       2.000000     2.000000\n",
       "25%      45.000000    58.750000\n",
       "50%     100.000000   117.550000\n",
       "75%     160.000000   178.000000\n",
       "max     660.000000  1313.400000"
      ]
     },
     "execution_count": 124,
     "metadata": {},
     "output_type": "execute_result"
    }
   ],
   "source": [
    "dataset.describe()"
   ]
  },
  {
   "cell_type": "code",
   "execution_count": 125,
   "metadata": {},
   "outputs": [
    {
     "data": {
      "text/plain": [
       "count           1124\n",
       "unique           185\n",
       "top       Хліб білий\n",
       "freq              67\n",
       "Name: Назва, dtype: object"
      ]
     },
     "execution_count": 125,
     "metadata": {},
     "output_type": "execute_result"
    }
   ],
   "source": [
    "dataset['Назва'].describe()"
   ]
  },
  {
   "cell_type": "code",
   "execution_count": 126,
   "metadata": {},
   "outputs": [],
   "source": [
    "dates = dataset.groupby('Дата')\n",
    "times = dataset.groupby('Час')"
   ]
  },
  {
   "cell_type": "code",
   "execution_count": 127,
   "metadata": {},
   "outputs": [
    {
     "data": {
      "text/plain": [
       "Дата              \n",
       "2018-03-02  count                  13\n",
       "            unique                 11\n",
       "            top                Гречка\n",
       "            freq                    2\n",
       "2018-03-03  count                  16\n",
       "            unique                 14\n",
       "            top        Ікра кабачкова\n",
       "            freq                    2\n",
       "2018-03-04  count                  21\n",
       "            unique                 17\n",
       "            top           Цибуля сира\n",
       "            freq                    2\n",
       "2018-03-05  count                  16\n",
       "            unique                 13\n",
       "            top                  Яйце\n",
       "            freq                    2\n",
       "2018-03-06  count                  18\n",
       "            unique                 16\n",
       "            top                Яблуко\n",
       "            freq                    2\n",
       "2018-03-07  count                  18\n",
       "            unique                 16\n",
       "            top        Биток смажений\n",
       "            freq                    2\n",
       "2018-03-08  count                  17\n",
       "            unique                 15\n",
       "            top                Яблуко\n",
       "            freq                    2\n",
       "2018-03-09  count                  15\n",
       "            unique                 12\n",
       "                           ...       \n",
       "2018-05-11  top            Хліб білий\n",
       "            freq                    2\n",
       "2018-05-12  count                   9\n",
       "            unique                  6\n",
       "            top       Котлета домашня\n",
       "            freq                    2\n",
       "2018-05-13  count                  12\n",
       "            unique                 10\n",
       "            top       Котлета домашня\n",
       "            freq                    2\n",
       "2018-05-14  count                  12\n",
       "            unique                 10\n",
       "            top               Сирники\n",
       "            freq                    2\n",
       "2018-05-15  count                  14\n",
       "            unique                 13\n",
       "            top                Гречка\n",
       "            freq                    2\n",
       "2018-05-16  count                  11\n",
       "            unique                  6\n",
       "            top            Хліб білий\n",
       "            freq                    3\n",
       "2018-05-17  count                   6\n",
       "            unique                  4\n",
       "            top          Перлова каша\n",
       "            freq                    2\n",
       "2019-03-20  count                  17\n",
       "            unique                 13\n",
       "            top          Перлова каша\n",
       "            freq                    3\n",
       "Name: Назва, dtype: object"
      ]
     },
     "execution_count": 127,
     "metadata": {},
     "output_type": "execute_result"
    }
   ],
   "source": [
    "dates['Назва'].describe(include='category')"
   ]
  },
  {
   "cell_type": "code",
   "execution_count": 128,
   "metadata": {},
   "outputs": [
    {
     "data": {
      "text/plain": [
       "Час               \n",
       "Вечеря      count                 430\n",
       "            unique                127\n",
       "            top       Сельдерей сирий\n",
       "            freq                   22\n",
       "Обід        count                 346\n",
       "            unique                131\n",
       "            top            Хліб білий\n",
       "            freq                   26\n",
       "Сніданок 1  count                 317\n",
       "            unique                102\n",
       "            top                Гречка\n",
       "            freq                   31\n",
       "Сніданок 2  count                  31\n",
       "            unique                 24\n",
       "            top             Масло 85%\n",
       "            freq                    3\n",
       "Name: Назва, dtype: object"
      ]
     },
     "execution_count": 128,
     "metadata": {},
     "output_type": "execute_result"
    }
   ],
   "source": [
    "times['Назва'].describe(include='category')"
   ]
  },
  {
   "cell_type": "code",
   "execution_count": 129,
   "metadata": {},
   "outputs": [
    {
     "data": {
      "text/plain": [
       "Час\n",
       "Вечеря        125.528386\n",
       "Обід          142.012197\n",
       "Сніданок 1    143.625577\n",
       "Сніданок 2    109.356129\n",
       "Name: Калорії, dtype: float64"
      ]
     },
     "execution_count": 129,
     "metadata": {},
     "output_type": "execute_result"
    }
   ],
   "source": [
    "times['Калорії'].mean()"
   ]
  },
  {
   "cell_type": "code",
   "execution_count": 130,
   "metadata": {},
   "outputs": [
    {
     "data": {
      "text/plain": [
       "Час\n",
       "Вечеря        117.023256\n",
       "Обід          126.996387\n",
       "Сніданок 1    116.552050\n",
       "Сніданок 2     64.709677\n",
       "Name: Вага (грам), dtype: float64"
      ]
     },
     "execution_count": 130,
     "metadata": {},
     "output_type": "execute_result"
    }
   ],
   "source": [
    "times['Вага (грам)'].mean()"
   ]
  },
  {
   "cell_type": "code",
   "execution_count": 131,
   "metadata": {},
   "outputs": [
    {
     "data": {
      "text/plain": [
       "Час\n",
       "Вечеря        1313.4\n",
       "Обід          1000.0\n",
       "Сніданок 1     825.0\n",
       "Сніданок 2     605.0\n",
       "Name: Калорії, dtype: float64"
      ]
     },
     "execution_count": 131,
     "metadata": {},
     "output_type": "execute_result"
    }
   ],
   "source": [
    "times['Калорії'].max()"
   ]
  },
  {
   "cell_type": "code",
   "execution_count": 132,
   "metadata": {},
   "outputs": [
    {
     "data": {
      "text/plain": [
       "Час\n",
       "Вечеря         4.50\n",
       "Обід           2.00\n",
       "Сніданок 1     2.00\n",
       "Сніданок 2    11.22\n",
       "Name: Калорії, dtype: float64"
      ]
     },
     "execution_count": 132,
     "metadata": {},
     "output_type": "execute_result"
    }
   ],
   "source": [
    "times['Калорії'].min()"
   ]
  },
  {
   "cell_type": "code",
   "execution_count": 133,
   "metadata": {},
   "outputs": [],
   "source": [
    "data = pd.read_csv('data_clean.csv')"
   ]
  },
  {
   "cell_type": "code",
   "execution_count": 134,
   "metadata": {},
   "outputs": [
    {
     "data": {
      "text/html": [
       "<div>\n",
       "<table border=\"1\" class=\"dataframe\">\n",
       "  <thead>\n",
       "    <tr style=\"text-align: right;\">\n",
       "      <th></th>\n",
       "      <th>Weight</th>\n",
       "      <th>Calories</th>\n",
       "      <th>Proteins</th>\n",
       "      <th>Fats</th>\n",
       "      <th>Carbs</th>\n",
       "      <th>Training</th>\n",
       "      <th>My weight</th>\n",
       "    </tr>\n",
       "  </thead>\n",
       "  <tbody>\n",
       "    <tr>\n",
       "      <th>count</th>\n",
       "      <td>78.000000</td>\n",
       "      <td>78.000000</td>\n",
       "      <td>78.000000</td>\n",
       "      <td>78.000000</td>\n",
       "      <td>78.000000</td>\n",
       "      <td>78.000000</td>\n",
       "      <td>78.000000</td>\n",
       "    </tr>\n",
       "    <tr>\n",
       "      <th>mean</th>\n",
       "      <td>1738.432692</td>\n",
       "      <td>1997.069710</td>\n",
       "      <td>110.938412</td>\n",
       "      <td>88.352099</td>\n",
       "      <td>182.042690</td>\n",
       "      <td>0.166667</td>\n",
       "      <td>89.417949</td>\n",
       "    </tr>\n",
       "    <tr>\n",
       "      <th>std</th>\n",
       "      <td>353.873523</td>\n",
       "      <td>239.039616</td>\n",
       "      <td>32.671256</td>\n",
       "      <td>21.762604</td>\n",
       "      <td>45.887305</td>\n",
       "      <td>0.375090</td>\n",
       "      <td>2.490592</td>\n",
       "    </tr>\n",
       "    <tr>\n",
       "      <th>min</th>\n",
       "      <td>518.000000</td>\n",
       "      <td>959.612000</td>\n",
       "      <td>51.751000</td>\n",
       "      <td>44.164000</td>\n",
       "      <td>60.010000</td>\n",
       "      <td>0.000000</td>\n",
       "      <td>85.700000</td>\n",
       "    </tr>\n",
       "    <tr>\n",
       "      <th>25%</th>\n",
       "      <td>1525.750000</td>\n",
       "      <td>1876.194750</td>\n",
       "      <td>90.491750</td>\n",
       "      <td>75.433750</td>\n",
       "      <td>157.447250</td>\n",
       "      <td>0.000000</td>\n",
       "      <td>87.125000</td>\n",
       "    </tr>\n",
       "    <tr>\n",
       "      <th>50%</th>\n",
       "      <td>1743.500000</td>\n",
       "      <td>1993.243750</td>\n",
       "      <td>99.980500</td>\n",
       "      <td>85.993350</td>\n",
       "      <td>186.383000</td>\n",
       "      <td>0.000000</td>\n",
       "      <td>89.000000</td>\n",
       "    </tr>\n",
       "    <tr>\n",
       "      <th>75%</th>\n",
       "      <td>1935.000000</td>\n",
       "      <td>2094.400000</td>\n",
       "      <td>124.170000</td>\n",
       "      <td>96.194500</td>\n",
       "      <td>204.800000</td>\n",
       "      <td>0.000000</td>\n",
       "      <td>90.875000</td>\n",
       "    </tr>\n",
       "    <tr>\n",
       "      <th>max</th>\n",
       "      <td>2844.000000</td>\n",
       "      <td>2865.090000</td>\n",
       "      <td>218.135000</td>\n",
       "      <td>147.242000</td>\n",
       "      <td>344.842000</td>\n",
       "      <td>1.000000</td>\n",
       "      <td>96.000000</td>\n",
       "    </tr>\n",
       "  </tbody>\n",
       "</table>\n",
       "</div>"
      ],
      "text/plain": [
       "            Weight     Calories    Proteins        Fats       Carbs  \\\n",
       "count    78.000000    78.000000   78.000000   78.000000   78.000000   \n",
       "mean   1738.432692  1997.069710  110.938412   88.352099  182.042690   \n",
       "std     353.873523   239.039616   32.671256   21.762604   45.887305   \n",
       "min     518.000000   959.612000   51.751000   44.164000   60.010000   \n",
       "25%    1525.750000  1876.194750   90.491750   75.433750  157.447250   \n",
       "50%    1743.500000  1993.243750   99.980500   85.993350  186.383000   \n",
       "75%    1935.000000  2094.400000  124.170000   96.194500  204.800000   \n",
       "max    2844.000000  2865.090000  218.135000  147.242000  344.842000   \n",
       "\n",
       "        Training  My weight  \n",
       "count  78.000000  78.000000  \n",
       "mean    0.166667  89.417949  \n",
       "std     0.375090   2.490592  \n",
       "min     0.000000  85.700000  \n",
       "25%     0.000000  87.125000  \n",
       "50%     0.000000  89.000000  \n",
       "75%     0.000000  90.875000  \n",
       "max     1.000000  96.000000  "
      ]
     },
     "execution_count": 134,
     "metadata": {},
     "output_type": "execute_result"
    }
   ],
   "source": [
    "data.describe()"
   ]
  },
  {
   "cell_type": "code",
   "execution_count": null,
   "metadata": {},
   "outputs": [],
   "source": []
  }
 ],
 "metadata": {
  "kernelspec": {
   "display_name": "Python 3",
   "language": "python",
   "name": "python3"
  },
  "language_info": {
   "codemirror_mode": {
    "name": "ipython",
    "version": 3
   },
   "file_extension": ".py",
   "mimetype": "text/x-python",
   "name": "python",
   "nbconvert_exporter": "python",
   "pygments_lexer": "ipython3",
   "version": "3.6.0"
  }
 },
 "nbformat": 4,
 "nbformat_minor": 2
}
